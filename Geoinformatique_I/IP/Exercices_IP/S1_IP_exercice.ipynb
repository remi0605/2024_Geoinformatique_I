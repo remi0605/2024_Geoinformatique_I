{
  "cells": [
    {
      "cell_type": "markdown",
      "metadata": {
        "id": "view-in-github",
        "colab_type": "text"
      },
      "source": [
        "<a href=\"https://colab.research.google.com/github/remi0605/2024_Geoinformatique_I/blob/main/Geoinformatique_I/IP/Exercices_IP/S1_IP_exercice.ipynb\" target=\"_parent\"><img src=\"https://colab.research.google.com/assets/colab-badge.svg\" alt=\"Open In Colab\"/></a>"
      ]
    },
    {
      "cell_type": "markdown",
      "metadata": {
        "id": "a4H9Gb41nLo-"
      },
      "source": [
        "## Exercice 1 - Introduction aux bases de la programmation"
      ]
    },
    {
      "cell_type": "markdown",
      "metadata": {
        "id": "G79m62HcnLo_"
      },
      "source": [
        "### Premier code de Python :\n",
        "\n",
        "Utiliser la fonction \"print()\" pour afficher le texte \"Hello world\"."
      ]
    },
    {
      "cell_type": "code",
      "execution_count": 1,
      "metadata": {
        "id": "6acDX_-_nLpC",
        "outputId": "e8042743-bd2d-4d10-912c-092f34fdc82c",
        "colab": {
          "base_uri": "https://localhost:8080/"
        }
      },
      "outputs": [
        {
          "output_type": "stream",
          "name": "stdout",
          "text": [
            "Hello world\n"
          ]
        }
      ],
      "source": [
        "# Premier script : \"Hello world\"\n",
        "print(\"Hello world\")"
      ]
    },
    {
      "cell_type": "markdown",
      "metadata": {
        "id": "u8mSrLqxnLpE"
      },
      "source": [
        "### Variables et types de données :\n"
      ]
    },
    {
      "cell_type": "code",
      "execution_count": 2,
      "metadata": {
        "id": "QBu-r7EFnLpF"
      },
      "outputs": [],
      "source": [
        "# Initialiser des données\n",
        "\n",
        "x = 1   # Remplacer par une valeur entière (integer)\n",
        "y = 1.2   # Remplacer par une valeur décimale (float)\n",
        "z = \"Hello\"  # Remplacer par une chaîne de caractères. Par exemple \"Python\""
      ]
    },
    {
      "cell_type": "markdown",
      "metadata": {
        "id": "PJc99DALnLpG"
      },
      "source": [
        "Maintenant vérifions le type de ces variables à l'aide de la fonction \"type()\""
      ]
    },
    {
      "cell_type": "code",
      "execution_count": 4,
      "metadata": {
        "id": "WDrvtjv2nLpG",
        "outputId": "5518928b-74bc-4ca2-ce56-09c691ff404c",
        "colab": {
          "base_uri": "https://localhost:8080/"
        }
      },
      "outputs": [
        {
          "output_type": "stream",
          "name": "stdout",
          "text": [
            "<class 'int'>\n",
            "<class 'float'>\n",
            "<class 'str'>\n"
          ]
        }
      ],
      "source": [
        "# Comment vérifier le type ?\n",
        "print(type(1))  # Affiche le type de x\n",
        "print(type(1.2))  # Affiche le type de y\n",
        "print(type(\"Hello\"))  # Affiche le type de z"
      ]
    },
    {
      "cell_type": "markdown",
      "metadata": {
        "id": "T1V0f27onLpH"
      },
      "source": [
        "### Opérations arithmétiques :"
      ]
    },
    {
      "cell_type": "code",
      "execution_count": null,
      "metadata": {
        "id": "iXXDA3-JnLpI"
      },
      "outputs": [],
      "source": [
        "a = 1  # Remplacer par une valeur entière\n",
        "b = 2  # Remplacer par une valeur entière"
      ]
    },
    {
      "cell_type": "code",
      "execution_count": 6,
      "metadata": {
        "id": "Is2kTg-7nLpI"
      },
      "outputs": [],
      "source": [
        "# Opérations arithmétiques\n",
        "addition = 1 + 2  # Calcul de l'addition\n",
        "soustraction = 1 - 2  # Calcul de la soustraction entre a et b\n",
        "multiplication = 1 * 2  # Calcul de la multiplication entre a et b\n",
        "division = 1 / 2   # Calcul de la division de a par b"
      ]
    },
    {
      "cell_type": "code",
      "execution_count": 13,
      "metadata": {
        "id": "n7_BQYBanLpJ",
        "outputId": "dd90382b-7a4e-4d83-f6a9-23f6dba867dc",
        "colab": {
          "base_uri": "https://localhost:8080/"
        }
      },
      "outputs": [
        {
          "output_type": "stream",
          "name": "stdout",
          "text": [
            "Addition: 3\n",
            "Soustraction: 1\n",
            "Multiplication: 2\n",
            "Division: 2.0\n"
          ]
        }
      ],
      "source": [
        "# Afficher les résultats\n",
        "a = 2\n",
        "b = 1\n",
        "print(\"Addition:\", a + b)\n",
        "print(\"Soustraction:\", a - b)\n",
        "print(\"Multiplication:\", a * b)\n",
        "print(\"Division:\", a / b)\n"
      ]
    },
    {
      "cell_type": "markdown",
      "metadata": {
        "id": "VXsb00dpnLpJ"
      },
      "source": [
        "### Calcul d'émissions de CO2 :"
      ]
    },
    {
      "cell_type": "code",
      "execution_count": null,
      "metadata": {
        "id": "o-v8FPXOnLpJ"
      },
      "outputs": [],
      "source": [
        "# Données\n",
        "distance_km = 100  # Distance parcourue en kilomètres\n",
        "consommation_essence_litres_km = 0.02  # Consommation d'essence en litres par km"
      ]
    },
    {
      "cell_type": "code",
      "execution_count": 22,
      "metadata": {
        "id": "WvCqQV44nLpK",
        "outputId": "9d361b87-88b8-4118-b4f9-d66f765456b9",
        "colab": {
          "base_uri": "https://localhost:8080/"
        }
      },
      "outputs": [
        {
          "output_type": "stream",
          "name": "stdout",
          "text": [
            "multiplication 46.0\n"
          ]
        }
      ],
      "source": [
        "# Calcul des émissions de CO2 en kilogrammes\n",
        "# Le facteur 2,3 est une estimation générale de la quantité de dioxyde de carbone (CO2) émise en kilogrammes par litre de carburant brûlé.\n",
        "# Il est utilisé pour convertir la consommation d'essence en émissions de CO2.\n",
        "dist_km = 100\n",
        "conso_litre = 0.02\n",
        "print(\"multiplication\", (100 * 0.2) * 2.3)"
      ]
    },
    {
      "cell_type": "code",
      "execution_count": 23,
      "metadata": {
        "id": "bGnGt39ynLpK",
        "outputId": "4733408d-c9da-49cf-b356-ac23cca3c0e3",
        "colab": {
          "base_uri": "https://localhost:8080/"
        }
      },
      "outputs": [
        {
          "output_type": "stream",
          "name": "stdout",
          "text": [
            "Les émissions de CO2 pour 100 km parcourus sont de 46.0 grammes.\n"
          ]
        }
      ],
      "source": [
        "# Afficher le résultat\n",
        "print(\"Les émissions de CO2 pour\", dist_km, \"km parcourus sont de\", 46.0 , \"grammes.\")"
      ]
    },
    {
      "cell_type": "markdown",
      "metadata": {
        "id": "q-bZszADnLpK"
      },
      "source": [
        "### Calcul de la consommation d'énergie"
      ]
    },
    {
      "cell_type": "code",
      "execution_count": null,
      "metadata": {
        "id": "XtXC6cGUnLpK"
      },
      "outputs": [],
      "source": [
        "# Données\n",
        "puissance_appareil = 300  # Puissance de l'appareil en watts\n",
        "temps_utilisation_heures = 2  # Temps d'utilisation en heures par jour"
      ]
    },
    {
      "cell_type": "code",
      "execution_count": 25,
      "metadata": {
        "id": "_V2F75BWnLpL",
        "outputId": "9f4ff5c5-3aa3-424d-ad13-281f06fbe9a1",
        "colab": {
          "base_uri": "https://localhost:8080/"
        }
      },
      "outputs": [
        {
          "output_type": "stream",
          "name": "stdout",
          "text": [
            "2 0.6\n"
          ]
        }
      ],
      "source": [
        "# Calcul de la consommation d'énergie quotidienne en kilowatt-heures (kWh)\n",
        "# La division par 1000 est nécessaire pour convertir la puissance de l'appareil (exprimée en watts) en kilowatts,\n",
        "# car 1 kilowatt équivaut à 1000 watts.\n",
        "puissance_appareil = 300\n",
        "temps_utilisation_heures = 2\n",
        "consommation_quotidienne_kWh = (puissance_appareil * temps_utilisation_heures) / 1000\n",
        "print(multiplication, (300 * 2 ) / 1000)"
      ]
    },
    {
      "cell_type": "code",
      "execution_count": 27,
      "metadata": {
        "id": "gbXyVo-ZnLpL",
        "outputId": "79f6692e-aa10-48fb-ca83-a1a4bb2ec20e",
        "colab": {
          "base_uri": "https://localhost:8080/"
        }
      },
      "outputs": [
        {
          "output_type": "stream",
          "name": "stdout",
          "text": [
            "La consommation d'énergie quotidienne de l'appareil est de 0.6 kWh.\n"
          ]
        }
      ],
      "source": [
        "# Afficher le résultat\n",
        "print(\"La consommation d'énergie quotidienne de l'appareil est de\", 0.6 , \"kWh.\")"
      ]
    }
  ],
  "metadata": {
    "colab": {
      "provenance": [],
      "include_colab_link": true
    },
    "language_info": {
      "name": "python"
    },
    "kernelspec": {
      "name": "python3",
      "display_name": "Python 3"
    }
  },
  "nbformat": 4,
  "nbformat_minor": 0
}